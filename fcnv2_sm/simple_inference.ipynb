{
 "cells": [
  {
   "cell_type": "markdown",
   "metadata": {},
   "source": [
    "# Simple Inference with FCNv2"
   ]
  },
  {
   "cell_type": "markdown",
   "metadata": {},
   "source": [
    "## Setup"
   ]
  },
  {
   "cell_type": "code",
   "execution_count": 1,
   "metadata": {},
   "outputs": [],
   "source": [
    "import numpy as np\n",
    "import datetime\n",
    "import os\n",
    "import matplotlib.pyplot as plt\n",
    "\n",
    "from scipy.signal import periodogram\n",
    "\n",
    "# Set number of GPUs to use to 1\n",
    "os.environ[\"WORLD_SIZE\"] = \"1\"\n",
    "# Set model registry as a local folder\n",
    "model_registry = os.path.join(os.path.dirname(os.path.realpath(os.getcwd())), \"models\")\n",
    "os.makedirs(model_registry, exist_ok=True)\n",
    "os.environ[\"MODEL_REGISTRY\"] = model_registry\n",
    "\n",
    "# With the enviroment variables set now we import Earth-2 MIP\n",
    "from earth2mip import registry, inference_ensemble\n",
    "from earth2mip.initial_conditions import cds\n",
    "from earth2mip.networks.fcnv2_sm import load as fcnv2_sm_load"
   ]
  },
  {
   "cell_type": "markdown",
   "metadata": {},
   "source": [
    "## Load Model from registry"
   ]
  },
  {
   "cell_type": "code",
   "execution_count": null,
   "metadata": {},
   "outputs": [],
   "source": [
    "# Load model(s) from registry\n",
    "package = registry.get_model(\"fcnv2_sm\")\n",
    "print(\"loading FCNv2 small model, this can take a bit\")\n",
    "sfno_inference_model = fcnv2_sm_load(package)"
   ]
  },
  {
   "cell_type": "markdown",
   "metadata": {},
   "source": [
    "## Get Input-Data from cds and run Inference"
   ]
  },
  {
   "cell_type": "code",
   "execution_count": null,
   "metadata": {},
   "outputs": [],
   "source": [
    "print(f\"{type(sfno_inference_model.in_channel_names)}: {sfno_inference_model.in_channel_names}\")"
   ]
  },
  {
   "cell_type": "code",
   "execution_count": null,
   "metadata": {},
   "outputs": [],
   "source": [
    "data_source = cds.DataSource(sfno_inference_model.in_channel_names)\n",
    "output = \"path/\"\n",
    "time = datetime.datetime(2018, 1, 1)\n",
    "ds = inference_ensemble.run_basic_inference(\n",
    "    sfno_inference_model,\n",
    "    n=1,\n",
    "    data_source=data_source,\n",
    "    time=time,\n",
    ")"
   ]
  },
  {
   "cell_type": "code",
   "execution_count": null,
   "metadata": {},
   "outputs": [],
   "source": [
    "ds"
   ]
  },
  {
   "cell_type": "code",
   "execution_count": null,
   "metadata": {},
   "outputs": [],
   "source": [
    "arr = ds.sel(channel=\"u200\").values\n",
    "f, pw = periodogram(arr, axis=-1, fs=1)\n",
    "pw = pw.mean(axis=(1, 2))\n",
    "\n",
    "l = ds.time - ds.time[0]  # noqa\n",
    "days = l / (ds.time[-1] - ds.time[0])\n",
    "cm = plt.cm.get_cmap(\"viridis\")\n",
    "for k in range(ds.sizes[\"time\"]):\n",
    "    day = (ds.time[k] - ds.time[0]) / np.timedelta64(1, \"D\")\n",
    "    day = day.item()\n",
    "    plt.loglog(f, pw[k], color=cm(days[k]), label=day)\n",
    "plt.legend()\n",
    "plt.ylim(bottom=1e-8)\n",
    "plt.grid()\n",
    "plt.savefig(\"u200_spectra.png\")\n",
    "\n",
    "# %%\n",
    "day = (ds.time - ds.time[0]) / np.timedelta64(1, \"D\")\n",
    "plt.semilogy(day, pw[:, 100:].mean(-1), \"o-\")\n",
    "plt.savefig(\"u200_high_wave.png\")"
   ]
  },
  {
   "cell_type": "code",
   "execution_count": null,
   "metadata": {},
   "outputs": [],
   "source": [
    "model.in_channel_names"
   ]
  },
  {
   "cell_type": "markdown",
   "metadata": {},
   "source": [
    "# Run Full Inference"
   ]
  },
  {
   "cell_type": "code",
   "execution_count": 2,
   "metadata": {},
   "outputs": [
    {
     "name": "stdout",
     "output_type": "stream",
     "text": [
      "loading FCNv2 small model, this can take a bit\n"
     ]
    }
   ],
   "source": [
    "from earth2mip.schema import EnsembleRun\n",
    "from earth2mip.inference_ensemble import run_inference\n",
    "import torch\n",
    "import numpy as np\n",
    "import earth2mip.initial_conditions\n",
    "\n",
    "# Load model(s) from registry\n",
    "package = registry.get_model(\"fcnv2_sm\")\n",
    "print(\"loading FCNv2 small model, this can take a bit\")\n",
    "model = fcnv2_sm_load(package)\n",
    "perturb = None  # Use default perturbation if not specified\n",
    "group = None  # Use default torch distributed group if not specified\n",
    "progress = True  # Show progress bar\n"
   ]
  },
  {
   "cell_type": "code",
   "execution_count": 3,
   "metadata": {},
   "outputs": [],
   "source": [
    "from earth2mip.weather_events import WeatherEvent, WeatherEventProperties, Domain, Window, Diagnostic\n",
    "\n",
    "# Define diagnostics\n",
    "diagnostic = Diagnostic(type=\"raw\", channels=[\"u100\", \"u200\"], nbins=10)\n",
    "data_source = cds.DataSource(model.in_channel_names)\n",
    "\n",
    "# Define domains\n",
    "window = Window(\n",
    "    name=\"global\",\n",
    "    lat_min=-90,\n",
    "    lat_max=90,\n",
    "    lon_min=0,\n",
    "    lon_max=360,\n",
    "    diagnostics=[diagnostic]\n",
    ")\n",
    "\n",
    "# Define weather event properties\n",
    "weather_event_properties = WeatherEventProperties(\n",
    "    name=\"example_event\",\n",
    "    start_time=datetime.datetime(2023, 5, 21),\n",
    "    initial_condition_source='era5',\n",
    ")\n",
    "\n",
    "# Create WeatherEvent\n",
    "weather_event = WeatherEvent(\n",
    "    properties=weather_event_properties,\n",
    "    domains=[window]\n",
    ")\n",
    "\n",
    "# EnsembleRun contains settings for the ensemble forecast\n",
    "config = EnsembleRun(\n",
    "    ensemble_members=3,  # Original number of ensemble members\n",
    "    weather_model = \"FCNv2\",\n",
    "    simulation_length = 2,\n",
    "    weather_event = weather_event,\n",
    "    output_dir = \"inference_outputs\"\n",
    "    # Initialize other necessary parameters for EnsembleRun\n",
    ")"
   ]
  },
  {
   "cell_type": "code",
   "execution_count": 4,
   "metadata": {},
   "outputs": [
    {
     "ename": "KeyboardInterrupt",
     "evalue": "",
     "output_type": "error",
     "traceback": [
      "\u001b[0;31m---------------------------------------------------------------------------\u001b[0m",
      "\u001b[0;31mKeyboardInterrupt\u001b[0m                         Traceback (most recent call last)",
      "Cell \u001b[0;32mIn[4], line 2\u001b[0m\n\u001b[1;32m      1\u001b[0m \u001b[38;5;66;03m# Step 3: Call the run_inference function with the modified config\u001b[39;00m\n\u001b[0;32m----> 2\u001b[0m \u001b[43mrun_inference\u001b[49m\u001b[43m(\u001b[49m\n\u001b[1;32m      3\u001b[0m \u001b[43m    \u001b[49m\u001b[43mmodel\u001b[49m\u001b[38;5;241;43m=\u001b[39;49m\u001b[43mmodel\u001b[49m\u001b[43m,\u001b[49m\n\u001b[1;32m      4\u001b[0m \u001b[43m    \u001b[49m\u001b[43mconfig\u001b[49m\u001b[38;5;241;43m=\u001b[39;49m\u001b[43mconfig\u001b[49m\u001b[43m,\u001b[49m\n\u001b[1;32m      5\u001b[0m \u001b[43m    \u001b[49m\u001b[43mperturb\u001b[49m\u001b[38;5;241;43m=\u001b[39;49m\u001b[43mperturb\u001b[49m\u001b[43m,\u001b[49m\n\u001b[1;32m      6\u001b[0m \u001b[43m    \u001b[49m\u001b[43mgroup\u001b[49m\u001b[38;5;241;43m=\u001b[39;49m\u001b[43mgroup\u001b[49m\u001b[43m,\u001b[49m\n\u001b[1;32m      7\u001b[0m \u001b[43m    \u001b[49m\u001b[43mprogress\u001b[49m\u001b[38;5;241;43m=\u001b[39;49m\u001b[43mprogress\u001b[49m\u001b[43m,\u001b[49m\n\u001b[1;32m      8\u001b[0m \u001b[43m    \u001b[49m\u001b[43mdata_source\u001b[49m\u001b[38;5;241;43m=\u001b[39;49m\u001b[43mdata_source\u001b[49m\n\u001b[1;32m      9\u001b[0m \u001b[43m)\u001b[49m\n",
      "File \u001b[0;32m~/miniconda3/envs/py3.11/lib/python3.11/site-packages/earth2mip/inference_ensemble.py:382\u001b[0m, in \u001b[0;36mrun_inference\u001b[0;34m(model, config, perturb, group, progress, data_source)\u001b[0m\n\u001b[1;32m    379\u001b[0m     nc\u001b[38;5;241m.\u001b[39minstitution \u001b[38;5;241m=\u001b[39m \u001b[38;5;124m\"\u001b[39m\u001b[38;5;124mNVIDIA\u001b[39m\u001b[38;5;124m\"\u001b[39m\n\u001b[1;32m    380\u001b[0m     nc\u001b[38;5;241m.\u001b[39mConventions \u001b[38;5;241m=\u001b[39m \u001b[38;5;124m\"\u001b[39m\u001b[38;5;124mCF-1.10\u001b[39m\u001b[38;5;124m\"\u001b[39m\n\u001b[0;32m--> 382\u001b[0m     \u001b[43mrun_ensembles\u001b[49m\u001b[43m(\u001b[49m\n\u001b[1;32m    383\u001b[0m \u001b[43m        \u001b[49m\u001b[43mweather_event\u001b[49m\u001b[38;5;241;43m=\u001b[39;49m\u001b[43mweather_event\u001b[49m\u001b[43m,\u001b[49m\n\u001b[1;32m    384\u001b[0m \u001b[43m        \u001b[49m\u001b[43mmodel\u001b[49m\u001b[38;5;241;43m=\u001b[39;49m\u001b[43mmodel\u001b[49m\u001b[43m,\u001b[49m\n\u001b[1;32m    385\u001b[0m \u001b[43m        \u001b[49m\u001b[43mperturb\u001b[49m\u001b[38;5;241;43m=\u001b[39;49m\u001b[43mperturb\u001b[49m\u001b[43m,\u001b[49m\n\u001b[1;32m    386\u001b[0m \u001b[43m        \u001b[49m\u001b[43mnc\u001b[49m\u001b[38;5;241;43m=\u001b[39;49m\u001b[43mnc\u001b[49m\u001b[43m,\u001b[49m\n\u001b[1;32m    387\u001b[0m \u001b[43m        \u001b[49m\u001b[43mdomains\u001b[49m\u001b[38;5;241;43m=\u001b[39;49m\u001b[43mweather_event\u001b[49m\u001b[38;5;241;43m.\u001b[39;49m\u001b[43mdomains\u001b[49m\u001b[43m,\u001b[49m\n\u001b[1;32m    388\u001b[0m \u001b[43m        \u001b[49m\u001b[43mx\u001b[49m\u001b[38;5;241;43m=\u001b[39;49m\u001b[43mx\u001b[49m\u001b[43m,\u001b[49m\n\u001b[1;32m    389\u001b[0m \u001b[43m        \u001b[49m\u001b[43mn_ensemble\u001b[49m\u001b[38;5;241;43m=\u001b[39;49m\u001b[43mn_ensemble\u001b[49m\u001b[43m,\u001b[49m\n\u001b[1;32m    390\u001b[0m \u001b[43m        \u001b[49m\u001b[43mn_steps\u001b[49m\u001b[38;5;241;43m=\u001b[39;49m\u001b[43mconfig\u001b[49m\u001b[38;5;241;43m.\u001b[39;49m\u001b[43msimulation_length\u001b[49m\u001b[43m,\u001b[49m\n\u001b[1;32m    391\u001b[0m \u001b[43m        \u001b[49m\u001b[43moutput_frequency\u001b[49m\u001b[38;5;241;43m=\u001b[39;49m\u001b[43mconfig\u001b[49m\u001b[38;5;241;43m.\u001b[39;49m\u001b[43moutput_frequency\u001b[49m\u001b[43m,\u001b[49m\n\u001b[1;32m    392\u001b[0m \u001b[43m        \u001b[49m\u001b[43mbatch_size\u001b[49m\u001b[38;5;241;43m=\u001b[39;49m\u001b[43mconfig\u001b[49m\u001b[38;5;241;43m.\u001b[39;49m\u001b[43mensemble_batch_size\u001b[49m\u001b[43m,\u001b[49m\n\u001b[1;32m    393\u001b[0m \u001b[43m        \u001b[49m\u001b[43mrank\u001b[49m\u001b[38;5;241;43m=\u001b[39;49m\u001b[43mdist\u001b[49m\u001b[38;5;241;43m.\u001b[39;49m\u001b[43mrank\u001b[49m\u001b[43m,\u001b[49m\n\u001b[1;32m    394\u001b[0m \u001b[43m        \u001b[49m\u001b[43mdate_obj\u001b[49m\u001b[38;5;241;43m=\u001b[39;49m\u001b[43mdate_obj\u001b[49m\u001b[43m,\u001b[49m\n\u001b[1;32m    395\u001b[0m \u001b[43m        \u001b[49m\u001b[43mrestart_frequency\u001b[49m\u001b[38;5;241;43m=\u001b[39;49m\u001b[43mconfig\u001b[49m\u001b[38;5;241;43m.\u001b[39;49m\u001b[43mrestart_frequency\u001b[49m\u001b[43m,\u001b[49m\n\u001b[1;32m    396\u001b[0m \u001b[43m        \u001b[49m\u001b[43moutput_path\u001b[49m\u001b[38;5;241;43m=\u001b[39;49m\u001b[43moutput_path\u001b[49m\u001b[43m,\u001b[49m\n\u001b[1;32m    397\u001b[0m \u001b[43m        \u001b[49m\u001b[43moutput_grid\u001b[49m\u001b[38;5;241;43m=\u001b[39;49m\u001b[43m(\u001b[49m\n\u001b[1;32m    398\u001b[0m \u001b[43m            \u001b[49m\u001b[43mearth2mip\u001b[49m\u001b[38;5;241;43m.\u001b[39;49m\u001b[43mgrid\u001b[49m\u001b[38;5;241;43m.\u001b[39;49m\u001b[43mfrom_enum\u001b[49m\u001b[43m(\u001b[49m\u001b[43mconfig\u001b[49m\u001b[38;5;241;43m.\u001b[39;49m\u001b[43moutput_grid\u001b[49m\u001b[43m)\u001b[49m\n\u001b[1;32m    399\u001b[0m \u001b[43m            \u001b[49m\u001b[38;5;28;43;01mif\u001b[39;49;00m\u001b[43m \u001b[49m\u001b[43mconfig\u001b[49m\u001b[38;5;241;43m.\u001b[39;49m\u001b[43moutput_grid\u001b[49m\n\u001b[1;32m    400\u001b[0m \u001b[43m            \u001b[49m\u001b[38;5;28;43;01melse\u001b[39;49;00m\u001b[43m \u001b[49m\u001b[38;5;28;43;01mNone\u001b[39;49;00m\n\u001b[1;32m    401\u001b[0m \u001b[43m        \u001b[49m\u001b[43m)\u001b[49m\u001b[43m,\u001b[49m\n\u001b[1;32m    402\u001b[0m \u001b[43m        \u001b[49m\u001b[43mprogress\u001b[49m\u001b[38;5;241;43m=\u001b[39;49m\u001b[43mprogress\u001b[49m\u001b[43m,\u001b[49m\n\u001b[1;32m    403\u001b[0m \u001b[43m    \u001b[49m\u001b[43m)\u001b[49m\n\u001b[1;32m    404\u001b[0m \u001b[38;5;28;01mif\u001b[39;00m torch\u001b[38;5;241m.\u001b[39mdistributed\u001b[38;5;241m.\u001b[39mis_initialized():\n\u001b[1;32m    405\u001b[0m     torch\u001b[38;5;241m.\u001b[39mdistributed\u001b[38;5;241m.\u001b[39mbarrier(group)\n",
      "File \u001b[0;32m~/miniconda3/envs/py3.11/lib/python3.11/site-packages/earth2mip/inference_ensemble.py:144\u001b[0m, in \u001b[0;36mrun_ensembles\u001b[0;34m(n_steps, weather_event, model, perturb, x, nc, domains, n_ensemble, batch_size, rank, output_frequency, output_grid, date_obj, restart_frequency, output_path, restart_initial_directory, progress)\u001b[0m\n\u001b[1;32m    142\u001b[0m     logger\u001b[38;5;241m.\u001b[39mdebug(\u001b[38;5;124mf\u001b[39m\u001b[38;5;124m\"\u001b[39m\u001b[38;5;124mSaving data at step \u001b[39m\u001b[38;5;132;01m{\u001b[39;00mk\u001b[38;5;132;01m}\u001b[39;00m\u001b[38;5;124m of \u001b[39m\u001b[38;5;132;01m{\u001b[39;00mn_steps\u001b[38;5;132;01m}\u001b[39;00m\u001b[38;5;124m.\u001b[39m\u001b[38;5;124m\"\u001b[39m)\n\u001b[1;32m    143\u001b[0m     nc[\u001b[38;5;124m\"\u001b[39m\u001b[38;5;124mtime\u001b[39m\u001b[38;5;124m\"\u001b[39m][time_count] \u001b[38;5;241m=\u001b[39m cftime\u001b[38;5;241m.\u001b[39mdate2num(time, nc[\u001b[38;5;124m\"\u001b[39m\u001b[38;5;124mtime\u001b[39m\u001b[38;5;124m\"\u001b[39m]\u001b[38;5;241m.\u001b[39munits)\n\u001b[0;32m--> 144\u001b[0m     \u001b[43mupdate_netcdf\u001b[49m\u001b[43m(\u001b[49m\n\u001b[1;32m    145\u001b[0m \u001b[43m        \u001b[49m\u001b[43mregridder\u001b[49m\u001b[43m(\u001b[49m\u001b[43mdata\u001b[49m\u001b[43m)\u001b[49m\u001b[43m,\u001b[49m\n\u001b[1;32m    146\u001b[0m \u001b[43m        \u001b[49m\u001b[43mdiagnostics\u001b[49m\u001b[43m,\u001b[49m\n\u001b[1;32m    147\u001b[0m \u001b[43m        \u001b[49m\u001b[43mdomains\u001b[49m\u001b[43m,\u001b[49m\n\u001b[1;32m    148\u001b[0m \u001b[43m        \u001b[49m\u001b[43mbatch_id\u001b[49m\u001b[43m,\u001b[49m\n\u001b[1;32m    149\u001b[0m \u001b[43m        \u001b[49m\u001b[43mtime_count\u001b[49m\u001b[43m,\u001b[49m\n\u001b[1;32m    150\u001b[0m \u001b[43m        \u001b[49m\u001b[43mmodel\u001b[49m\u001b[38;5;241;43m.\u001b[39;49m\u001b[43mgrid\u001b[49m\u001b[43m,\u001b[49m\n\u001b[1;32m    151\u001b[0m \u001b[43m        \u001b[49m\u001b[43mmodel\u001b[49m\u001b[38;5;241;43m.\u001b[39;49m\u001b[43mout_channel_names\u001b[49m\u001b[43m,\u001b[49m\n\u001b[1;32m    152\u001b[0m \u001b[43m    \u001b[49m\u001b[43m)\u001b[49m\n\u001b[1;32m    154\u001b[0m \u001b[38;5;28;01mif\u001b[39;00m k \u001b[38;5;241m==\u001b[39m n_steps:\n\u001b[1;32m    155\u001b[0m     \u001b[38;5;28;01mbreak\u001b[39;00m\n",
      "File \u001b[0;32m~/miniconda3/envs/py3.11/lib/python3.11/site-packages/earth2mip/netcdf.py:156\u001b[0m, in \u001b[0;36mupdate_netcdf\u001b[0;34m(data, total_diagnostics, domains, batch_id, time_count, grid, channel_names_of_data)\u001b[0m\n\u001b[1;32m    152\u001b[0m         index \u001b[38;5;241m=\u001b[39m [\n\u001b[1;32m    153\u001b[0m             channel_names_of_data\u001b[38;5;241m.\u001b[39mindex(c) \u001b[38;5;28;01mfor\u001b[39;00m c \u001b[38;5;129;01min\u001b[39;00m diagnostic\u001b[38;5;241m.\u001b[39mdiagnostic\u001b[38;5;241m.\u001b[39mchannels\n\u001b[1;32m    154\u001b[0m         ]\n\u001b[1;32m    155\u001b[0m         output \u001b[38;5;241m=\u001b[39m data[:, index]\n\u001b[0;32m--> 156\u001b[0m         \u001b[43mdiagnostic\u001b[49m\u001b[38;5;241;43m.\u001b[39;49m\u001b[43mupdate\u001b[49m\u001b[43m(\u001b[49m\u001b[43moutput\u001b[49m\u001b[43m,\u001b[49m\u001b[43m \u001b[49m\u001b[43mtime_count\u001b[49m\u001b[43m,\u001b[49m\u001b[43m \u001b[49m\u001b[43mbatch_id\u001b[49m\u001b[43m,\u001b[49m\u001b[43m \u001b[49m\u001b[43mbatch_size\u001b[49m\u001b[43m)\u001b[49m\n\u001b[1;32m    157\u001b[0m \u001b[38;5;28;01mreturn\u001b[39;00m\n",
      "File \u001b[0;32m~/miniconda3/envs/py3.11/lib/python3.11/site-packages/earth2mip/diagnostics.py:126\u001b[0m, in \u001b[0;36mRaw.update\u001b[0;34m(self, output, time_index, batch_id, batch_size)\u001b[0m\n\u001b[1;32m    122\u001b[0m \u001b[38;5;28;01mdef\u001b[39;00m \u001b[38;5;21mupdate\u001b[39m(\n\u001b[1;32m    123\u001b[0m     \u001b[38;5;28mself\u001b[39m, output: torch\u001b[38;5;241m.\u001b[39mTensor, time_index: \u001b[38;5;28mint\u001b[39m, batch_id: \u001b[38;5;28mint\u001b[39m, batch_size: \u001b[38;5;28mint\u001b[39m\n\u001b[1;32m    124\u001b[0m ):\n\u001b[1;32m    125\u001b[0m     \u001b[38;5;28;01mfor\u001b[39;00m c, channel \u001b[38;5;129;01min\u001b[39;00m \u001b[38;5;28menumerate\u001b[39m(\u001b[38;5;28mself\u001b[39m\u001b[38;5;241m.\u001b[39mdiagnostic\u001b[38;5;241m.\u001b[39mchannels):\n\u001b[0;32m--> 126\u001b[0m         \u001b[38;5;28mself\u001b[39m\u001b[38;5;241m.\u001b[39msubgroup[channel][batch_id : batch_id \u001b[38;5;241m+\u001b[39m batch_size, time_index] \u001b[38;5;241m=\u001b[39m (\n\u001b[1;32m    127\u001b[0m             output[:, c]\u001b[38;5;241m.\u001b[39mcpu()\u001b[38;5;241m.\u001b[39mnumpy()\n\u001b[1;32m    128\u001b[0m         )\n",
      "\u001b[0;31mKeyboardInterrupt\u001b[0m: "
     ]
    }
   ],
   "source": [
    "# Step 3: Call the run_inference function with the modified config\n",
    "run_inference(\n",
    "    model=model,\n",
    "    config=config,\n",
    "    perturb=perturb,\n",
    "    group=group,\n",
    "    progress=progress,\n",
    "    data_source=data_source\n",
    ")"
   ]
  }
 ],
 "metadata": {
  "kernelspec": {
   "display_name": "py3.11",
   "language": "python",
   "name": "python3"
  },
  "language_info": {
   "codemirror_mode": {
    "name": "ipython",
    "version": 3
   },
   "file_extension": ".py",
   "mimetype": "text/x-python",
   "name": "python",
   "nbconvert_exporter": "python",
   "pygments_lexer": "ipython3",
   "version": "3.11.9"
  }
 },
 "nbformat": 4,
 "nbformat_minor": 2
}
