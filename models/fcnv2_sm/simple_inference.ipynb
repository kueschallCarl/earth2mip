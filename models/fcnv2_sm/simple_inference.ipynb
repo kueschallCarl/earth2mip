{
 "cells": [
  {
   "cell_type": "markdown",
   "metadata": {},
   "source": [
    "# Inference with FCNv2"
   ]
  },
  {
   "cell_type": "markdown",
   "metadata": {},
   "source": [
    "## Setup"
   ]
  },
  {
   "cell_type": "code",
   "execution_count": 1,
   "metadata": {},
   "outputs": [],
   "source": [
    "import numpy as np\n",
    "import datetime\n",
    "import os\n",
    "import matplotlib.pyplot as plt\n",
    "\n",
    "from scipy.signal import periodogram\n",
    "\n",
    "# Set number of GPUs to use to 1\n",
    "os.environ[\"WORLD_SIZE\"] = \"1\"\n",
    "# Set model registry as a local folder\n",
    "model_registry = os.path.join(os.path.dirname(os.path.realpath(os.getcwd()))) # set this to whereever the model files are located (.tar)\n",
    "os.makedirs(model_registry, exist_ok=True)\n",
    "os.environ[\"MODEL_REGISTRY\"] = model_registry\n",
    "\n",
    "# With the enviroment variables set now we import Earth-2 MIP\n",
    "from earth2mip import registry, inference_ensemble\n",
    "from earth2mip.initial_conditions import cds\n",
    "from earth2mip.networks.fcnv2_sm import load as fcnv2_sm_load"
   ]
  },
  {
   "cell_type": "code",
   "execution_count": null,
   "metadata": {},
   "outputs": [],
   "source": [
    "model.in_channel_names"
   ]
  },
  {
   "cell_type": "markdown",
   "metadata": {},
   "source": [
    "# Run Full Inference"
   ]
  },
  {
   "cell_type": "code",
   "execution_count": 2,
   "metadata": {},
   "outputs": [
    {
     "name": "stdout",
     "output_type": "stream",
     "text": [
      "loading FCNv2 small model, this can take a bit\n"
     ]
    }
   ],
   "source": [
    "from earth2mip.schema import EnsembleRun\n",
    "from earth2mip.inference_ensemble import run_inference\n",
    "import torch\n",
    "import numpy as np\n",
    "import earth2mip.initial_conditions\n",
    "\n",
    "# Load model(s) from registry\n",
    "package = registry.get_model(\"fcnv2_sm\")\n",
    "print(\"loading FCNv2 small model, this can take a bit\")\n",
    "model = fcnv2_sm_load(package)\n",
    "perturb = None  # Use default perturbation if not specified\n",
    "group = None  # Use default torch distributed group if not specified\n",
    "progress = True  # Show progress bar\n"
   ]
  },
  {
   "cell_type": "code",
   "execution_count": 3,
   "metadata": {},
   "outputs": [],
   "source": [
    "from earth2mip.weather_events import WeatherEvent, WeatherEventProperties, Domain, Window, Diagnostic\n",
    "\n",
    "# Define diagnostics\n",
    "diagnostic = Diagnostic(type=\"raw\", channels=[\"u100\", \"u200\"], nbins=10)\n",
    "data_source = cds.DataSource(model.in_channel_names)\n",
    "\n",
    "# Define domains\n",
    "window = Window(\n",
    "    name=\"global\",\n",
    "    lat_min=-90,\n",
    "    lat_max=90,\n",
    "    lon_min=0,\n",
    "    lon_max=360,\n",
    "    diagnostics=[diagnostic]\n",
    ")\n",
    "\n",
    "# Define weather event properties\n",
    "weather_event_properties = WeatherEventProperties(\n",
    "    name=\"example_event\",\n",
    "    start_time=datetime.datetime(2023, 5, 21),\n",
    "    initial_condition_source='era5',\n",
    ")\n",
    "\n",
    "# Create WeatherEvent\n",
    "weather_event = WeatherEvent(\n",
    "    properties=weather_event_properties,\n",
    "    domains=[window]\n",
    ")\n",
    "\n",
    "# EnsembleRun contains settings for the ensemble forecast\n",
    "config = EnsembleRun(\n",
    "    ensemble_members=3,  # Original number of ensemble members\n",
    "    weather_model = \"FCNv2\",\n",
    "    simulation_length = 2,\n",
    "    weather_event = weather_event,\n",
    "    output_dir = \"inference_outputs\"\n",
    "    # Initialize other necessary parameters for EnsembleRun\n",
    ")"
   ]
  },
  {
   "cell_type": "code",
   "execution_count": 4,
   "metadata": {},
   "outputs": [],
   "source": [
    "# Step 3: Call the run_inference function with the modified config\n",
    "run_inference(\n",
    "    model=model,\n",
    "    config=config,\n",
    "    perturb=perturb,\n",
    "    group=group,\n",
    "    progress=progress,\n",
    "    data_source=data_source\n",
    ")"
   ]
  },
  {
   "cell_type": "code",
   "execution_count": null,
   "metadata": {},
   "outputs": [],
   "source": []
  }
 ],
 "metadata": {
  "kernelspec": {
   "display_name": "py3.11",
   "language": "python",
   "name": "python3"
  },
  "language_info": {
   "codemirror_mode": {
    "name": "ipython",
    "version": 3
   },
   "file_extension": ".py",
   "mimetype": "text/x-python",
   "name": "python",
   "nbconvert_exporter": "python",
   "pygments_lexer": "ipython3",
   "version": "3.11.9"
  }
 },
 "nbformat": 4,
 "nbformat_minor": 2
}
